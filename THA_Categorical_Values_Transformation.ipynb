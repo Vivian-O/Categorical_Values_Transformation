{
 "cells": [
  {
   "cell_type": "markdown",
   "id": "063f3d39",
   "metadata": {},
   "source": [
    "Hello everyone here is a file that contains categorical variables. Using your preferred notebook, open the file and convert the State and the Membership columns to the appropriate categorical encoding. In the notebook, introduce what you are doing before writing the code so that we will have an understanding of what you are doing. An example is, from our last assignment, a cell says \"Import the necessary libraries\" then the next cell imported pandas.\n",
    "\n",
    "Column definition: State column indicates the hotel's customer comes from. Membership column indicates the membership type the hotel's customer registered for. MOV (Membership Ordinal Values) column indicates the ordinal values. This should be gotten from the membership column and it should be values from A to Z. Remember one of the categorical encoding type measures the priority of a categorical value in letters. MCT (Membership Categorical Transform) column indicates the observation for the transformed membership type. This should be gotten from the transforming the MOV column\n",
    "\n",
    "Feel free to ask more questions if needed.\n",
    "\n",
    "Difficulty level of this task is medium so we expect to hand it in tomorrow"
   ]
  },
  {
   "cell_type": "markdown",
   "id": "041e4e2a",
   "metadata": {},
   "source": [
    "# Importing the datasets"
   ]
  },
  {
   "cell_type": "markdown",
   "id": "3fbc57d6",
   "metadata": {},
   "source": [
    "### Load the necessary libraries"
   ]
  },
  {
   "cell_type": "code",
   "execution_count": 1,
   "id": "c432a0c0",
   "metadata": {},
   "outputs": [],
   "source": [
    "import pandas as pd"
   ]
  },
  {
   "cell_type": "markdown",
   "id": "39ffd373",
   "metadata": {},
   "source": [
    "#### Load The Datasets"
   ]
  },
  {
   "cell_type": "code",
   "execution_count": 2,
   "id": "0f53d007",
   "metadata": {},
   "outputs": [],
   "source": [
    "Cat = pd.read_excel('Categorical_encoding.xlsx')"
   ]
  },
  {
   "cell_type": "markdown",
   "id": "baa8b678",
   "metadata": {},
   "source": [
    "#### Cleaning Web Dataset"
   ]
  },
  {
   "cell_type": "markdown",
   "id": "3fd3b1d8",
   "metadata": {},
   "source": [
    "#### Sample the web dataset"
   ]
  },
  {
   "cell_type": "code",
   "execution_count": 3,
   "id": "95b44600",
   "metadata": {},
   "outputs": [
    {
     "data": {
      "text/html": [
       "<div>\n",
       "<style scoped>\n",
       "    .dataframe tbody tr th:only-of-type {\n",
       "        vertical-align: middle;\n",
       "    }\n",
       "\n",
       "    .dataframe tbody tr th {\n",
       "        vertical-align: top;\n",
       "    }\n",
       "\n",
       "    .dataframe thead th {\n",
       "        text-align: right;\n",
       "    }\n",
       "</style>\n",
       "<table border=\"1\" class=\"dataframe\">\n",
       "  <thead>\n",
       "    <tr style=\"text-align: right;\">\n",
       "      <th></th>\n",
       "      <th>State</th>\n",
       "      <th>Membership</th>\n",
       "      <th>MOV</th>\n",
       "      <th>MCT</th>\n",
       "    </tr>\n",
       "  </thead>\n",
       "  <tbody>\n",
       "    <tr>\n",
       "      <th>0</th>\n",
       "      <td>Anambra</td>\n",
       "      <td>Gold</td>\n",
       "      <td>NaN</td>\n",
       "      <td>NaN</td>\n",
       "    </tr>\n",
       "    <tr>\n",
       "      <th>1</th>\n",
       "      <td>Enugu</td>\n",
       "      <td>Silver</td>\n",
       "      <td>NaN</td>\n",
       "      <td>NaN</td>\n",
       "    </tr>\n",
       "    <tr>\n",
       "      <th>2</th>\n",
       "      <td>Lagos</td>\n",
       "      <td>Platinum</td>\n",
       "      <td>NaN</td>\n",
       "      <td>NaN</td>\n",
       "    </tr>\n",
       "    <tr>\n",
       "      <th>3</th>\n",
       "      <td>Abuja</td>\n",
       "      <td>Silver</td>\n",
       "      <td>NaN</td>\n",
       "      <td>NaN</td>\n",
       "    </tr>\n",
       "    <tr>\n",
       "      <th>4</th>\n",
       "      <td>Bayelsa</td>\n",
       "      <td>Platinum</td>\n",
       "      <td>NaN</td>\n",
       "      <td>NaN</td>\n",
       "    </tr>\n",
       "    <tr>\n",
       "      <th>5</th>\n",
       "      <td>Imo</td>\n",
       "      <td>Diamond</td>\n",
       "      <td>NaN</td>\n",
       "      <td>NaN</td>\n",
       "    </tr>\n",
       "  </tbody>\n",
       "</table>\n",
       "</div>"
      ],
      "text/plain": [
       "     State Membership  MOV  MCT\n",
       "0  Anambra       Gold  NaN  NaN\n",
       "1    Enugu     Silver  NaN  NaN\n",
       "2    Lagos   Platinum  NaN  NaN\n",
       "3    Abuja     Silver  NaN  NaN\n",
       "4  Bayelsa   Platinum  NaN  NaN\n",
       "5      Imo    Diamond  NaN  NaN"
      ]
     },
     "execution_count": 3,
     "metadata": {},
     "output_type": "execute_result"
    }
   ],
   "source": [
    "Cat.head(10)"
   ]
  },
  {
   "cell_type": "markdown",
   "id": "e7ed6316",
   "metadata": {},
   "source": [
    "#### Get Basic Information About The Dataset"
   ]
  },
  {
   "cell_type": "code",
   "execution_count": 4,
   "id": "0480f420",
   "metadata": {},
   "outputs": [
    {
     "name": "stdout",
     "output_type": "stream",
     "text": [
      "<class 'pandas.core.frame.DataFrame'>\n",
      "RangeIndex: 6 entries, 0 to 5\n",
      "Data columns (total 4 columns):\n",
      " #   Column      Non-Null Count  Dtype  \n",
      "---  ------      --------------  -----  \n",
      " 0   State       6 non-null      object \n",
      " 1   Membership  6 non-null      object \n",
      " 2   MOV         0 non-null      float64\n",
      " 3   MCT         0 non-null      float64\n",
      "dtypes: float64(2), object(2)\n",
      "memory usage: 320.0+ bytes\n"
     ]
    }
   ],
   "source": [
    "Cat.info()"
   ]
  },
  {
   "cell_type": "markdown",
   "id": "9357fe71",
   "metadata": {},
   "source": [
    "##### I need to change the observations in the MOV (Membership Ordinal Values) column indicates the ordinal values. This should be gotten from the membership column and it should be values from A to Z"
   ]
  },
  {
   "cell_type": "code",
   "execution_count": 23,
   "id": "b495f419",
   "metadata": {},
   "outputs": [],
   "source": [
    "def new_MOV(Cat):\n",
    "    if Cat [\"Membership\"] ==\"Diamond\":\n",
    "        result = \"A\"\n",
    "    elif Cat [\"Membership\"] ==\"Gold\":\n",
    "        result = \"B\"\n",
    "    elif Cat [\"Membership\"] ==\"Silver\":\n",
    "        result = \"C\"\n",
    "    elif Cat [\"Membership\"] ==\"Platinum\":\n",
    "        result = \"D\"\n",
    "    return result"
   ]
  },
  {
   "cell_type": "markdown",
   "id": "a98484f9",
   "metadata": {},
   "source": [
    "##### Complete the code below to Create a new column called MOVV that will hold new column observations in the dataframe. Notice the difference in column names: MOV vs MOVV"
   ]
  },
  {
   "cell_type": "code",
   "execution_count": 24,
   "id": "40490989",
   "metadata": {},
   "outputs": [
    {
     "data": {
      "text/html": [
       "<div>\n",
       "<style scoped>\n",
       "    .dataframe tbody tr th:only-of-type {\n",
       "        vertical-align: middle;\n",
       "    }\n",
       "\n",
       "    .dataframe tbody tr th {\n",
       "        vertical-align: top;\n",
       "    }\n",
       "\n",
       "    .dataframe thead th {\n",
       "        text-align: right;\n",
       "    }\n",
       "</style>\n",
       "<table border=\"1\" class=\"dataframe\">\n",
       "  <thead>\n",
       "    <tr style=\"text-align: right;\">\n",
       "      <th></th>\n",
       "      <th>State</th>\n",
       "      <th>Membership</th>\n",
       "      <th>MOV</th>\n",
       "      <th>MCT</th>\n",
       "      <th>MCT</th>\n",
       "      <th>MOVV</th>\n",
       "    </tr>\n",
       "  </thead>\n",
       "  <tbody>\n",
       "    <tr>\n",
       "      <th>0</th>\n",
       "      <td>Anambra</td>\n",
       "      <td>Gold</td>\n",
       "      <td>NaN</td>\n",
       "      <td>NaN</td>\n",
       "      <td>2</td>\n",
       "      <td>B</td>\n",
       "    </tr>\n",
       "    <tr>\n",
       "      <th>1</th>\n",
       "      <td>Enugu</td>\n",
       "      <td>Silver</td>\n",
       "      <td>NaN</td>\n",
       "      <td>NaN</td>\n",
       "      <td>3</td>\n",
       "      <td>C</td>\n",
       "    </tr>\n",
       "    <tr>\n",
       "      <th>2</th>\n",
       "      <td>Lagos</td>\n",
       "      <td>Platinum</td>\n",
       "      <td>NaN</td>\n",
       "      <td>NaN</td>\n",
       "      <td>4</td>\n",
       "      <td>D</td>\n",
       "    </tr>\n",
       "    <tr>\n",
       "      <th>3</th>\n",
       "      <td>Abuja</td>\n",
       "      <td>Silver</td>\n",
       "      <td>NaN</td>\n",
       "      <td>NaN</td>\n",
       "      <td>3</td>\n",
       "      <td>C</td>\n",
       "    </tr>\n",
       "    <tr>\n",
       "      <th>4</th>\n",
       "      <td>Bayelsa</td>\n",
       "      <td>Platinum</td>\n",
       "      <td>NaN</td>\n",
       "      <td>NaN</td>\n",
       "      <td>4</td>\n",
       "      <td>D</td>\n",
       "    </tr>\n",
       "    <tr>\n",
       "      <th>5</th>\n",
       "      <td>Imo</td>\n",
       "      <td>Diamond</td>\n",
       "      <td>NaN</td>\n",
       "      <td>NaN</td>\n",
       "      <td>1</td>\n",
       "      <td>A</td>\n",
       "    </tr>\n",
       "  </tbody>\n",
       "</table>\n",
       "</div>"
      ],
      "text/plain": [
       "     State Membership  MOV MCT MCT MOVV\n",
       "0  Anambra       Gold  NaN NaN   2    B\n",
       "1    Enugu     Silver  NaN NaN   3    C\n",
       "2    Lagos   Platinum  NaN NaN   4    D\n",
       "3    Abuja     Silver  NaN NaN   3    C\n",
       "4  Bayelsa   Platinum  NaN NaN   4    D\n",
       "5      Imo    Diamond  NaN NaN   1    A"
      ]
     },
     "execution_count": 24,
     "metadata": {},
     "output_type": "execute_result"
    }
   ],
   "source": [
    "Cat[\"MOVV\"] = Cat.apply(new_MOV, axis=\"columns\")\n",
    "Cat"
   ]
  },
  {
   "cell_type": "code",
   "execution_count": 25,
   "id": "be8d22dc",
   "metadata": {},
   "outputs": [],
   "source": [
    "def new_MCT(Cat):\n",
    "    if Cat [\"Membership\"] ==\"Diamond\":\n",
    "        result = \"1\"\n",
    "    elif Cat [\"Membership\"] ==\"Gold\":\n",
    "        result = \"2\"\n",
    "    elif Cat [\"Membership\"] ==\"Silver\":\n",
    "        result = \"3\"\n",
    "    elif Cat [\"Membership\"] ==\"Platinum\":\n",
    "        result = \"4\"\n",
    "    return result"
   ]
  },
  {
   "cell_type": "code",
   "execution_count": 26,
   "id": "71faece2",
   "metadata": {},
   "outputs": [
    {
     "data": {
      "text/html": [
       "<div>\n",
       "<style scoped>\n",
       "    .dataframe tbody tr th:only-of-type {\n",
       "        vertical-align: middle;\n",
       "    }\n",
       "\n",
       "    .dataframe tbody tr th {\n",
       "        vertical-align: top;\n",
       "    }\n",
       "\n",
       "    .dataframe thead th {\n",
       "        text-align: right;\n",
       "    }\n",
       "</style>\n",
       "<table border=\"1\" class=\"dataframe\">\n",
       "  <thead>\n",
       "    <tr style=\"text-align: right;\">\n",
       "      <th></th>\n",
       "      <th>State</th>\n",
       "      <th>Membership</th>\n",
       "      <th>MOV</th>\n",
       "      <th>MCT</th>\n",
       "      <th>MCT</th>\n",
       "      <th>MOVV</th>\n",
       "      <th>MCTT</th>\n",
       "    </tr>\n",
       "  </thead>\n",
       "  <tbody>\n",
       "    <tr>\n",
       "      <th>0</th>\n",
       "      <td>Anambra</td>\n",
       "      <td>Gold</td>\n",
       "      <td>NaN</td>\n",
       "      <td>NaN</td>\n",
       "      <td>2</td>\n",
       "      <td>B</td>\n",
       "      <td>2</td>\n",
       "    </tr>\n",
       "    <tr>\n",
       "      <th>1</th>\n",
       "      <td>Enugu</td>\n",
       "      <td>Silver</td>\n",
       "      <td>NaN</td>\n",
       "      <td>NaN</td>\n",
       "      <td>3</td>\n",
       "      <td>C</td>\n",
       "      <td>3</td>\n",
       "    </tr>\n",
       "    <tr>\n",
       "      <th>2</th>\n",
       "      <td>Lagos</td>\n",
       "      <td>Platinum</td>\n",
       "      <td>NaN</td>\n",
       "      <td>NaN</td>\n",
       "      <td>4</td>\n",
       "      <td>D</td>\n",
       "      <td>4</td>\n",
       "    </tr>\n",
       "    <tr>\n",
       "      <th>3</th>\n",
       "      <td>Abuja</td>\n",
       "      <td>Silver</td>\n",
       "      <td>NaN</td>\n",
       "      <td>NaN</td>\n",
       "      <td>3</td>\n",
       "      <td>C</td>\n",
       "      <td>3</td>\n",
       "    </tr>\n",
       "    <tr>\n",
       "      <th>4</th>\n",
       "      <td>Bayelsa</td>\n",
       "      <td>Platinum</td>\n",
       "      <td>NaN</td>\n",
       "      <td>NaN</td>\n",
       "      <td>4</td>\n",
       "      <td>D</td>\n",
       "      <td>4</td>\n",
       "    </tr>\n",
       "    <tr>\n",
       "      <th>5</th>\n",
       "      <td>Imo</td>\n",
       "      <td>Diamond</td>\n",
       "      <td>NaN</td>\n",
       "      <td>NaN</td>\n",
       "      <td>1</td>\n",
       "      <td>A</td>\n",
       "      <td>1</td>\n",
       "    </tr>\n",
       "  </tbody>\n",
       "</table>\n",
       "</div>"
      ],
      "text/plain": [
       "     State Membership  MOV MCT MCT MOVV MCTT\n",
       "0  Anambra       Gold  NaN NaN   2    B    2\n",
       "1    Enugu     Silver  NaN NaN   3    C    3\n",
       "2    Lagos   Platinum  NaN NaN   4    D    4\n",
       "3    Abuja     Silver  NaN NaN   3    C    3\n",
       "4  Bayelsa   Platinum  NaN NaN   4    D    4\n",
       "5      Imo    Diamond  NaN NaN   1    A    1"
      ]
     },
     "execution_count": 26,
     "metadata": {},
     "output_type": "execute_result"
    }
   ],
   "source": [
    "Cat[\"MCTT\"] = Cat.apply(new_MCT, axis=\"columns\")\n",
    "Cat"
   ]
  },
  {
   "cell_type": "code",
   "execution_count": 27,
   "id": "93572534",
   "metadata": {},
   "outputs": [
    {
     "data": {
      "text/html": [
       "<div>\n",
       "<style scoped>\n",
       "    .dataframe tbody tr th:only-of-type {\n",
       "        vertical-align: middle;\n",
       "    }\n",
       "\n",
       "    .dataframe tbody tr th {\n",
       "        vertical-align: top;\n",
       "    }\n",
       "\n",
       "    .dataframe thead th {\n",
       "        text-align: right;\n",
       "    }\n",
       "</style>\n",
       "<table border=\"1\" class=\"dataframe\">\n",
       "  <thead>\n",
       "    <tr style=\"text-align: right;\">\n",
       "      <th></th>\n",
       "      <th>State</th>\n",
       "      <th>Membership</th>\n",
       "      <th>MOVV</th>\n",
       "      <th>MCTT</th>\n",
       "    </tr>\n",
       "  </thead>\n",
       "  <tbody>\n",
       "    <tr>\n",
       "      <th>0</th>\n",
       "      <td>Anambra</td>\n",
       "      <td>Gold</td>\n",
       "      <td>B</td>\n",
       "      <td>2</td>\n",
       "    </tr>\n",
       "    <tr>\n",
       "      <th>1</th>\n",
       "      <td>Enugu</td>\n",
       "      <td>Silver</td>\n",
       "      <td>C</td>\n",
       "      <td>3</td>\n",
       "    </tr>\n",
       "    <tr>\n",
       "      <th>2</th>\n",
       "      <td>Lagos</td>\n",
       "      <td>Platinum</td>\n",
       "      <td>D</td>\n",
       "      <td>4</td>\n",
       "    </tr>\n",
       "    <tr>\n",
       "      <th>3</th>\n",
       "      <td>Abuja</td>\n",
       "      <td>Silver</td>\n",
       "      <td>C</td>\n",
       "      <td>3</td>\n",
       "    </tr>\n",
       "    <tr>\n",
       "      <th>4</th>\n",
       "      <td>Bayelsa</td>\n",
       "      <td>Platinum</td>\n",
       "      <td>D</td>\n",
       "      <td>4</td>\n",
       "    </tr>\n",
       "    <tr>\n",
       "      <th>5</th>\n",
       "      <td>Imo</td>\n",
       "      <td>Diamond</td>\n",
       "      <td>A</td>\n",
       "      <td>1</td>\n",
       "    </tr>\n",
       "  </tbody>\n",
       "</table>\n",
       "</div>"
      ],
      "text/plain": [
       "     State Membership MOVV MCTT\n",
       "0  Anambra       Gold    B    2\n",
       "1    Enugu     Silver    C    3\n",
       "2    Lagos   Platinum    D    4\n",
       "3    Abuja     Silver    C    3\n",
       "4  Bayelsa   Platinum    D    4\n",
       "5      Imo    Diamond    A    1"
      ]
     },
     "execution_count": 27,
     "metadata": {},
     "output_type": "execute_result"
    }
   ],
   "source": [
    "Cat=Cat[[\"State\",\"Membership\", \"MOVV\",\"MCTT\"]]\n",
    "Cat"
   ]
  },
  {
   "cell_type": "code",
   "execution_count": 28,
   "id": "4edb9c3b",
   "metadata": {},
   "outputs": [
    {
     "data": {
      "text/html": [
       "<div>\n",
       "<style scoped>\n",
       "    .dataframe tbody tr th:only-of-type {\n",
       "        vertical-align: middle;\n",
       "    }\n",
       "\n",
       "    .dataframe tbody tr th {\n",
       "        vertical-align: top;\n",
       "    }\n",
       "\n",
       "    .dataframe thead th {\n",
       "        text-align: right;\n",
       "    }\n",
       "</style>\n",
       "<table border=\"1\" class=\"dataframe\">\n",
       "  <thead>\n",
       "    <tr style=\"text-align: right;\">\n",
       "      <th></th>\n",
       "      <th>State</th>\n",
       "      <th>Membership</th>\n",
       "      <th>MOV</th>\n",
       "      <th>MCT</th>\n",
       "    </tr>\n",
       "  </thead>\n",
       "  <tbody>\n",
       "    <tr>\n",
       "      <th>0</th>\n",
       "      <td>Anambra</td>\n",
       "      <td>Gold</td>\n",
       "      <td>B</td>\n",
       "      <td>2</td>\n",
       "    </tr>\n",
       "    <tr>\n",
       "      <th>1</th>\n",
       "      <td>Enugu</td>\n",
       "      <td>Silver</td>\n",
       "      <td>C</td>\n",
       "      <td>3</td>\n",
       "    </tr>\n",
       "    <tr>\n",
       "      <th>2</th>\n",
       "      <td>Lagos</td>\n",
       "      <td>Platinum</td>\n",
       "      <td>D</td>\n",
       "      <td>4</td>\n",
       "    </tr>\n",
       "    <tr>\n",
       "      <th>3</th>\n",
       "      <td>Abuja</td>\n",
       "      <td>Silver</td>\n",
       "      <td>C</td>\n",
       "      <td>3</td>\n",
       "    </tr>\n",
       "    <tr>\n",
       "      <th>4</th>\n",
       "      <td>Bayelsa</td>\n",
       "      <td>Platinum</td>\n",
       "      <td>D</td>\n",
       "      <td>4</td>\n",
       "    </tr>\n",
       "    <tr>\n",
       "      <th>5</th>\n",
       "      <td>Imo</td>\n",
       "      <td>Diamond</td>\n",
       "      <td>A</td>\n",
       "      <td>1</td>\n",
       "    </tr>\n",
       "  </tbody>\n",
       "</table>\n",
       "</div>"
      ],
      "text/plain": [
       "     State Membership MOV MCT\n",
       "0  Anambra       Gold   B   2\n",
       "1    Enugu     Silver   C   3\n",
       "2    Lagos   Platinum   D   4\n",
       "3    Abuja     Silver   C   3\n",
       "4  Bayelsa   Platinum   D   4\n",
       "5      Imo    Diamond   A   1"
      ]
     },
     "execution_count": 28,
     "metadata": {},
     "output_type": "execute_result"
    }
   ],
   "source": [
    "Cat=Cat.rename(columns = {\"MOVV\":\"MOV\",\"MCTT\":\"MCT\"})\n",
    "Cat"
   ]
  },
  {
   "cell_type": "markdown",
   "id": "2e53ce2f",
   "metadata": {},
   "source": [
    "###### THANK YOU!!"
   ]
  }
 ],
 "metadata": {
  "kernelspec": {
   "display_name": "Python 3",
   "language": "python",
   "name": "python3"
  },
  "language_info": {
   "codemirror_mode": {
    "name": "ipython",
    "version": 3
   },
   "file_extension": ".py",
   "mimetype": "text/x-python",
   "name": "python",
   "nbconvert_exporter": "python",
   "pygments_lexer": "ipython3",
   "version": "3.8.8"
  }
 },
 "nbformat": 4,
 "nbformat_minor": 5
}
